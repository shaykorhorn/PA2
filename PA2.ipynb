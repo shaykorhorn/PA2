{
 "cells": [
  {
   "cell_type": "markdown",
   "id": "ab3a03b4",
   "metadata": {},
   "source": [
    "* Assignment 1\n",
    "* CS150\n",
    "* Computer Programming for the Liberal Arts\n",
    "* FA 2023\n",
    "* Shay Korhorn"
   ]
  },
  {
   "cell_type": "code",
   "execution_count": 7,
   "id": "b8addf55",
   "metadata": {},
   "outputs": [],
   "source": [
    "name= \"Shay\"\n",
    "age= 19\n",
    "height= 167.64\n",
    "color= \"blue\""
   ]
  },
  {
   "cell_type": "code",
   "execution_count": 10,
   "id": "730adc22",
   "metadata": {},
   "outputs": [
    {
     "name": "stdout",
     "output_type": "stream",
     "text": [
      "My name is Shay, I am 19 years old, I am 167.64 cm tall, and my favorite color is blue\n"
     ]
    }
   ],
   "source": [
    "print(f\"My name is {name}, I am {age} years old, I am {height} cm tall, and my favorite color is {color}\")"
   ]
  },
  {
   "cell_type": "code",
   "execution_count": 11,
   "id": "b416eca4",
   "metadata": {},
   "outputs": [],
   "source": [
    "celsius_temp= 0\n",
    "fahrenheit_temp= 32"
   ]
  },
  {
   "cell_type": "code",
   "execution_count": 12,
   "id": "bd97446d",
   "metadata": {},
   "outputs": [
    {
     "name": "stdout",
     "output_type": "stream",
     "text": [
      "The temperature is 0°C, which is 32°F.\n"
     ]
    }
   ],
   "source": [
    "print(f\"The temperature is {celsius_temp}°C, which is {fahrenheit_temp}°F.\")"
   ]
  },
  {
   "cell_type": "code",
   "execution_count": 13,
   "id": "aab1f193",
   "metadata": {},
   "outputs": [],
   "source": [
    "num1= 10\n",
    "num2= 20"
   ]
  },
  {
   "cell_type": "code",
   "execution_count": 15,
   "id": "c08b905f",
   "metadata": {},
   "outputs": [
    {
     "name": "stdout",
     "output_type": "stream",
     "text": [
      "The addition of 10 and 20 is 30.\n"
     ]
    }
   ],
   "source": [
    "print(f\"The addition of {num1} and {num2} is {num1+num2}.\")"
   ]
  },
  {
   "cell_type": "code",
   "execution_count": 16,
   "id": "2f33e9fe",
   "metadata": {},
   "outputs": [
    {
     "name": "stdout",
     "output_type": "stream",
     "text": [
      "The subtraction of 10 and 20 is -10.\n"
     ]
    }
   ],
   "source": [
    "print(f\"The subtraction of {num1} and {num2} is {num1-num2}.\")"
   ]
  },
  {
   "cell_type": "code",
   "execution_count": 17,
   "id": "7d73ac45",
   "metadata": {},
   "outputs": [
    {
     "name": "stdout",
     "output_type": "stream",
     "text": [
      "The multiplication of 10 and 20 is 200.\n"
     ]
    }
   ],
   "source": [
    "print(f\"The multiplication of {num1} and {num2} is {num1*num2}.\")"
   ]
  },
  {
   "cell_type": "code",
   "execution_count": 21,
   "id": "fe36a5c7",
   "metadata": {},
   "outputs": [
    {
     "name": "stdout",
     "output_type": "stream",
     "text": [
      "The division of 10 and 20 is 0.5.\n"
     ]
    }
   ],
   "source": [
    "print(f\"The division of {num1} and {num2} is {num1/num2}.\")"
   ]
  },
  {
   "cell_type": "code",
   "execution_count": 22,
   "id": "a9cd9b2b",
   "metadata": {},
   "outputs": [],
   "source": [
    "quote= \"No man ever steps into the same river twice, for it is not the same river, and he is not the same man\""
   ]
  },
  {
   "cell_type": "code",
   "execution_count": 31,
   "id": "a6b2216e",
   "metadata": {},
   "outputs": [
    {
     "name": "stdout",
     "output_type": "stream",
     "text": [
      "The length of the quote is 101.\n"
     ]
    }
   ],
   "source": [
    "print(f\"The length of the quote is {len (quote)}.\")"
   ]
  },
  {
   "cell_type": "code",
   "execution_count": 37,
   "id": "c3df9b4e",
   "metadata": {},
   "outputs": [
    {
     "name": "stdout",
     "output_type": "stream",
     "text": [
      "The uppercase:  NO MAN EVER STEPS INTO THE SAME RIVER TWICE, FOR IT IS NOT THE SAME RIVER, AND HE IS NOT THE SAME MAN\n"
     ]
    }
   ],
   "source": [
    "print(f\"The uppercase: \",quote.upper())"
   ]
  },
  {
   "cell_type": "code",
   "execution_count": 38,
   "id": "6a001413",
   "metadata": {},
   "outputs": [
    {
     "name": "stdout",
     "output_type": "stream",
     "text": [
      "The lowercase:  no man ever steps into the same river twice, for it is not the same river, and he is not the same man\n"
     ]
    }
   ],
   "source": [
    "print(f\"The lowercase: \",quote.lower())"
   ]
  },
  {
   "cell_type": "code",
   "execution_count": 40,
   "id": "9a3b26f3",
   "metadata": {},
   "outputs": [
    {
     "name": "stdout",
     "output_type": "stream",
     "text": [
      "The strip: No man ever steps into the same river twice, for it is not the same river, and he is not the same man\n"
     ]
    }
   ],
   "source": [
    "print(f\"The strip:\",quote.strip())"
   ]
  },
  {
   "cell_type": "code",
   "execution_count": 42,
   "id": "859c99ab",
   "metadata": {},
   "outputs": [
    {
     "name": "stdout",
     "output_type": "stream",
     "text": [
      "\n",
      "No \n",
      "man \n",
      "ever \n",
      "steps \n",
      "into \n",
      "the \n",
      "same \n",
      "river \n",
      "twice, \n",
      "for \n",
      "it \n",
      "is \n",
      "not \n",
      "the \n",
      "same \n",
      "river, \n",
      "and \n",
      "he \n",
      "is \n",
      "not \n",
      "the \n",
      "same \n",
      "man.\n"
     ]
    }
   ],
   "source": [
    "print(\"\\nNo \\nman \\never \\nsteps \\ninto \\nthe \\nsame \\nriver \\ntwice, \\nfor \\nit \\nis \\nnot \\nthe \\nsame \\nriver, \\nand \\nhe \\nis \\nnot \\nthe \\nsame \\nman.\")"
   ]
  },
  {
   "cell_type": "code",
   "execution_count": 43,
   "id": "7472e055",
   "metadata": {},
   "outputs": [],
   "source": [
    "int_num1= 1\n",
    "int_num2= 5"
   ]
  },
  {
   "cell_type": "code",
   "execution_count": 45,
   "id": "6fa173de",
   "metadata": {},
   "outputs": [
    {
     "name": "stdout",
     "output_type": "stream",
     "text": [
      "The sum of 1 and 5 is 6\n"
     ]
    }
   ],
   "source": [
    "print(f\"The sum of {int_num1} and {int_num2} is {int_num1+int_num2}\")"
   ]
  },
  {
   "cell_type": "code",
   "execution_count": 46,
   "id": "db9ca4f7",
   "metadata": {},
   "outputs": [
    {
     "name": "stdout",
     "output_type": "stream",
     "text": [
      "The difference of 1 and 5 is -4\n"
     ]
    }
   ],
   "source": [
    "print(f\"The difference of {int_num1} and {int_num2} is {int_num1-int_num2}\")"
   ]
  },
  {
   "cell_type": "code",
   "execution_count": 47,
   "id": "2f9f2f72",
   "metadata": {},
   "outputs": [
    {
     "name": "stdout",
     "output_type": "stream",
     "text": [
      "The product of 1 and 5 is 5\n"
     ]
    }
   ],
   "source": [
    "print(f\"The product of {int_num1} and {int_num2} is {int_num1*int_num2}\")"
   ]
  },
  {
   "cell_type": "code",
   "execution_count": 48,
   "id": "3afca15e",
   "metadata": {},
   "outputs": [
    {
     "name": "stdout",
     "output_type": "stream",
     "text": [
      "The quotient of 1 and 5 is 0.2\n"
     ]
    }
   ],
   "source": [
    "print(f\"The quotient of {int_num1} and {int_num2} is {int_num1/int_num2}\")"
   ]
  }
 ],
 "metadata": {
  "kernelspec": {
   "display_name": "Python 3 (ipykernel)",
   "language": "python",
   "name": "python3"
  },
  "language_info": {
   "codemirror_mode": {
    "name": "ipython",
    "version": 3
   },
   "file_extension": ".py",
   "mimetype": "text/x-python",
   "name": "python",
   "nbconvert_exporter": "python",
   "pygments_lexer": "ipython3",
   "version": "3.11.4"
  }
 },
 "nbformat": 4,
 "nbformat_minor": 5
}
